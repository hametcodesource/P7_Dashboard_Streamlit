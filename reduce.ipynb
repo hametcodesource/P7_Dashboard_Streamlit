{
 "cells": [
  {
   "cell_type": "code",
   "execution_count": 1,
   "metadata": {},
   "outputs": [],
   "source": [
    "import pandas as pd"
   ]
  },
  {
   "cell_type": "code",
   "execution_count": 2,
   "metadata": {},
   "outputs": [
    {
     "data": {
      "text/plain": [
       "24"
      ]
     },
     "execution_count": 2,
     "metadata": {},
     "output_type": "execute_result"
    }
   ],
   "source": [
    "list_client=[\"268037\",\"425786\",\"190453\",\"270290\",\"202246\",\"175571\",\"429275\",\"360497\",\"431179\",\"354816\",\"301830\",\"360718\",\"406978\",\"233870\",\"175397\",\"213721\",\"431746\",\"152740\",\"434662\",\"218025\",\"200138\",\"300584\",\"388076\",\"440909\"]\n",
    "len(list_client)"
   ]
  },
  {
   "cell_type": "code",
   "execution_count": 4,
   "metadata": {},
   "outputs": [
    {
     "data": {
      "text/plain": [
       "['268037',\n",
       " '425786',\n",
       " '190453',\n",
       " '270290',\n",
       " '202246',\n",
       " '175571',\n",
       " '429275',\n",
       " '360497',\n",
       " '431179',\n",
       " '354816',\n",
       " '301830',\n",
       " '360718',\n",
       " '406978',\n",
       " '233870',\n",
       " '175397',\n",
       " '213721',\n",
       " '431746',\n",
       " '152740',\n",
       " '434662',\n",
       " '218025',\n",
       " '200138',\n",
       " '300584',\n",
       " '388076',\n",
       " '440909']"
      ]
     },
     "execution_count": 4,
     "metadata": {},
     "output_type": "execute_result"
    }
   ],
   "source": [
    "list_client"
   ]
  }
 ],
 "metadata": {
  "kernelspec": {
   "display_name": "env",
   "language": "python",
   "name": "python3"
  },
  "language_info": {
   "codemirror_mode": {
    "name": "ipython",
    "version": 3
   },
   "file_extension": ".py",
   "mimetype": "text/x-python",
   "name": "python",
   "nbconvert_exporter": "python",
   "pygments_lexer": "ipython3",
   "version": "3.10.11"
  }
 },
 "nbformat": 4,
 "nbformat_minor": 2
}
